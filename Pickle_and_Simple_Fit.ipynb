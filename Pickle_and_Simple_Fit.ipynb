{
 "cells": [
  {
   "cell_type": "code",
   "execution_count": 8,
   "id": "c9566fd1",
   "metadata": {},
   "outputs": [],
   "source": [
    "import ROOT"
   ]
  },
  {
   "cell_type": "code",
   "execution_count": 9,
   "id": "944a38bc",
   "metadata": {},
   "outputs": [],
   "source": [
    "import mplhep \n",
    "import pandas as pd \n",
    "import numpy as np \n",
    "import uproot\n",
    "from matplotlib import pyplot as plt"
   ]
  },
  {
   "cell_type": "code",
   "execution_count": 10,
   "id": "b492fe78",
   "metadata": {},
   "outputs": [],
   "source": [
    "import awkward as ak"
   ]
  },
  {
   "cell_type": "code",
   "execution_count": 11,
   "id": "43c6cdde",
   "metadata": {},
   "outputs": [],
   "source": [
    "# These have been cut with applycuts2tree\n",
    "data_file = \"Lb2JpsipK_Data2016_S26_sel.root\"\n",
    "mc_file = \"Lb2JpsipK_MC2016_S26_sel.root\""
   ]
  },
  {
   "cell_type": "markdown",
   "id": "beafbd36",
   "metadata": {},
   "source": [
    "# Plot Variables\n",
    "\n",
    "```\n",
    "Lambda_b0_P 100 0 5e5\n",
    "Lambda_b0_PX 100 -35000 35000\n",
    "Lambda_b0_PY 100 -35000 35000\n",
    "Lambda_b0_PZ 100 0 6e5\n",
    "Lambda_b0_PT 100 0 30e3\n",
    "Lambda_b0_FD_OWNPV 100 0 70\n",
    "nTracks 100 0 620\n",
    "```\n",
    "\n",
    "Vars to fit:\n",
    "```\n",
    "Lambda_b0_M\n",
    "Lambda_b0_P\n",
    "Lambda_b0_PE\n",
    "Lambda_b0_PX\n",
    "Lambda_b0_PY\n",
    "Lambda_b0_PZ\n",
    "Lambda_b0_PT\n",
    "Lambda_b0_KinFit_M\n",
    "Lambda_b0_KinFit_P\n",
    "Lambda_b0_KinFit_MERR\n",
    "Lambda_b0_KinFit_PERR\n",
    "Lambda_b0_FD_OWNPV\n",
    "Lambdast_M\n",
    "nTracks\n",
    "```\n",
    "\n",
    "* Get s-weights\n",
    "\n",
    "https://gitlab.cern.ch/LHCb-RD/rad-lb2l0gamma-obs/-/blob/master/selection/mc_corrections/lb2jpsipk/splot/get_sweights.py?ref_type=heads\n",
    "\n",
    "* Plot s-weighted data, MC and re-weighted MC\n",
    "\n",
    "https://gitlab.cern.ch/LHCb-RD/rad-lb2l0gamma-obs/-/blob/master/selection/mc_corrections/lb2jpsipk/splot/get_evt_corr.py?ref_type=heads\n",
    "\n",
    "https://gitlab.cern.ch/LHCb-RD/rad-lb2l0gamma-obs/-/blob/master/selection/mc_corrections/lb2jpsipk/splot/corr_plots.py?ref_type=heads\n",
    "\n",
    "* Plot 1D and 2D s-weighted data\n",
    "\n",
    "https://gitlab.cern.ch/LHCb-RD/rad-lb2l0gamma-obs/-/blob/master/selection/mc_corrections/lb2jpsipk/splot/get_corr_histo.py?ref_type=heads\n",
    "\n",
    "# MC Corrections \n",
    "\n",
    "The optimisation of selection fully relies on simulation. The BDT for instance is trained using MC as proxy for the signal.\n",
    "To cross-check the simulation distributions for different parts of the decay chain, three high-rate modes (for which data is abundant) is used\n",
    "\n",
    "\n",
    "* Lb2pKJPsi should not depend on the particular decay mode. Lambda, p and piplus/minus are cmpared to data using Lb2LJPsi candidates. \n",
    "* photon properties are studied in B02K0*gamma events\n",
    "\n",
    "So next things we have to do are: \n",
    "\n",
    "* Locate the appropriate control modes paths\n",
    "* Apply selections on the control modes. \n",
    "* Do the mass fit with a double-tail Crystal-Ball function\n",
    "\n",
    "\n",
    "The 2016 analysis has some explanation [here](https://gitlab.cern.ch/LHCb-RD/rad-lb2l0gamma-obs/-/tree/master/selection/mc_corrections/lb2jpsipk?ref_type=heads).\n",
    "\n",
    "The cuts on the Lb2jpsiPK are as follows:\n",
    "\n",
    "```bash\n",
    "(Lambda_b0_L0MuonDecision_TOS || Lambda_b0_L0DiMuonDecision_TOS)\n",
    "(Lambda_b0_Hlt1TrackMVADecision_TOS || Lambda_b0_Hlt1TwoTrackMVADecision_TOS)\n",
    "(Lambda_b0_Hlt2Topo2BodyDecision_TOS || Lambda_b0_Hlt2TopoMu2BodyDecision_TOS || Lambda_b0_Hlt2TopoMu3BodyDecision_TOS || Lambda_b0_Hlt2TopoMu4BodyDecision_TOS || Lambda_b0_Hlt2DiMuonDetachedHeavyDecision_TOS || Lambda_b0_Hlt2DiMuonDetachedJPsiDecision_TOS || Lambda_b0_Hlt2DiMuonDetachedDecision_TOS)\n",
    "pplus_PT > 400\n",
    "Kminus_PT > 400\n",
    "pplus_P > 7500\n",
    "Kminus_P > 2000\n",
    "Lambda_b0_ENDVERTEX_CHI2 < 4\n",
    "Lambda_b0_DIRA_OWNPV > 0.9999\n",
    "pplus_PIDp > 0\n",
    "pplus_PIDp - pplus_PIDK > 8\n",
    "Kminus_PIDK > 0\n",
    "pplus_isMuon == 0\n",
    "Kminus_isMuon == 0\n",
    "Jpsi_M > 3000\n",
    "Jpsi_M < 3200\n",
    "```\n",
    "\n",
    "Here are the locations:\n",
    "```bash\n",
    "# Data\n",
    "/eos/lhcb/wg/RD/Lb2L0Gamma/Lb2JpsipK/Data/Lb2JpsipK_Data2016_S26.root\n",
    "\n",
    "# MC\n",
    "/eos/lhcb/wg/RD/Lb2L0Gamma/Lb2JpsipK/MC/Lb2JpsipK_MC2016_S26.root\n",
    "```"
   ]
  },
  {
   "cell_type": "code",
   "execution_count": 12,
   "id": "af07086a",
   "metadata": {},
   "outputs": [],
   "source": [
    "def uprootOpenFile(filePath, decayTree='Lb2JpsipKTuple/DecayTree'):\n",
    "    with uproot.open(filePath) as file:\n",
    "        df = file[decayTree].arrays(library='ak')\n",
    "    \n",
    "    return df"
   ]
  },
  {
   "cell_type": "code",
   "execution_count": 13,
   "id": "26ca15ec",
   "metadata": {},
   "outputs": [],
   "source": [
    "#mc_df = uprootOpenFile(mc_file)\n",
    "#data_df = uprootOpenFile(data_file)"
   ]
  },
  {
   "cell_type": "code",
   "execution_count": 14,
   "id": "e03fdef3",
   "metadata": {},
   "outputs": [],
   "source": [
    "def plot_comparison(var, mc_df, bkg_df):\n",
    "    # create histograms\n",
    "    hsig, bins = np.histogram(mc_df[var], bins=60, density=1)\n",
    "    hbkg, bins = np.histogram(bkg_df[var], bins=bins, density=1)\n",
    "\n",
    "    mplhep.histplot((hsig, bins), label='MC', )\n",
    "    mplhep.histplot(hbkg, bins=bins, label='Data')\n",
    "    plt.xlabel(var)\n",
    "    plt.xlim(bins[0], bins[-1])\n",
    "    plt.legend(loc='best')"
   ]
  },
  {
   "cell_type": "code",
   "execution_count": 15,
   "id": "b29c85d7",
   "metadata": {},
   "outputs": [],
   "source": [
    "tree = \"Lb2JpsipKTuple/DecayTree\""
   ]
  },
  {
   "cell_type": "code",
   "execution_count": 16,
   "id": "53ad2b64",
   "metadata": {},
   "outputs": [],
   "source": [
    "import pickle\n",
    "import numpy as np "
   ]
  },
  {
   "cell_type": "markdown",
   "id": "131f977f",
   "metadata": {},
   "source": [
    "# Using a Pickle file \n",
    "\n",
    "## What is a Pickle file?\n",
    "\n",
    "A pickle file is a serialized format for Python objects which allows you to save Python objects such as dictionaries, lists, dataframes, Awkward arrays to a file so you can easily load them later on without the need to recompute them or reload them from scratch. \n",
    "\n",
    "This is quite helpful when you are working with big ROOT files. \n",
    "Here, we've opened a ROOT file and saved the tree into a data frame. We can also select only certain variables into the pickle file. \n",
    "\n",
    "We can take the example from the [starterkit](https://gitlab.cern.ch/femiguel/mva-starterkit-lesson/-/blob/master/load_data_pickle.py?ref_type=heads)."
   ]
  },
  {
   "cell_type": "code",
   "execution_count": 17,
   "id": "5a222ea2",
   "metadata": {},
   "outputs": [],
   "source": [
    "variables = ['Jpsi_M', 'Kminus_isMuon', 'pplus_isMuon', 'Kminus_PIDK', 'pplus_PIDp', 'pplus_PIDK',\n",
    "             'Lambda_b0_DIRA_OWNPV', 'Lambda_b0_ENDVERTEX_CHI2', 'Kminus_P', 'pplus_P', 'Kminus_PT', 'pplus_PT', 'Lambda_b0_Hlt2Topo2BodyDecision_TOS',\n",
    "             'Lambda_b0_Hlt2TopoMu2BodyDecision_TOS', 'Lambda_b0_Hlt2TopoMu3BodyDecision_TOS', 'Lambda_b0_Hlt2TopoMu4BodyDecision_TOS',\n",
    "             'Lambda_b0_Hlt2DiMuonDetachedDecision_TOS', 'Lambda_b0_Hlt2DiMuonDetachedJPsiDecision_TOS', 'Lambda_b0_Hlt2DiMuonDetachedHeavyDecision_TOS',\n",
    "             'Lambda_b0_Hlt1TrackMVADecision_TOS', 'Lambda_b0_L0MuonDecision_TOS', 'Lambda_b0_L0DiMuonDecision_TOS', 'Lambda_b0_Hlt1TwoTrackMVADecision_TOS'    \n",
    "            ]\n",
    "\n",
    "lb0_vars = ['Lambda_b0_M', 'Lambda_b0_MM',\n",
    "'Lambda_b0_P',\n",
    "'Lambda_b0_PE',\n",
    "'Lambda_b0_PX',\n",
    "'Lambda_b0_PY',\n",
    "'Lambda_b0_PZ',\n",
    "'Lambda_b0_PT',\n",
    "'Lambda_b0_KinFit_M',\n",
    "'Lambda_b0_KinFit_P',\n",
    "'Lambda_b0_KinFit_MERR',\n",
    "'Lambda_b0_KinFit_PERR',\n",
    "'Lambda_b0_FD_OWNPV',\n",
    "'Lambdast_M',\n",
    "'nTracks']"
   ]
  },
  {
   "cell_type": "code",
   "execution_count": 18,
   "id": "904c331b",
   "metadata": {},
   "outputs": [],
   "source": [
    "t_mc = uproot.open(f\"{mc_file}:{tree}\")\n",
    "dfmc = t_mc.arrays(variables + lb0_vars, library=\"ak\")"
   ]
  },
  {
   "cell_type": "code",
   "execution_count": 19,
   "id": "39374026",
   "metadata": {},
   "outputs": [],
   "source": [
    "with open(\"lb2jpsipk_mc.pickle\", \"wb\") as f:\n",
    "    pickle.dump(dfmc, f)"
   ]
  },
  {
   "cell_type": "code",
   "execution_count": 20,
   "id": "afd657a2",
   "metadata": {},
   "outputs": [],
   "source": [
    "t_data = uproot.open(f\"{data_file}:{tree}\")\n",
    "dfdata = t_data.arrays(variables +lb0_vars, library=\"ak\")"
   ]
  },
  {
   "cell_type": "code",
   "execution_count": 21,
   "id": "dabf535a",
   "metadata": {},
   "outputs": [],
   "source": [
    "with open(\"lb2jpsipk_data.pickle\", \"wb\") as f:\n",
    "    pickle.dump(dfdata, f)"
   ]
  },
  {
   "cell_type": "markdown",
   "id": "536bbf80",
   "metadata": {},
   "source": [
    "Next, we'll learn how to make plots from the pickle files and access the information we saved.. \n",
    "\n",
    "Just in case if we need to access them later we do:"
   ]
  },
  {
   "cell_type": "code",
   "execution_count": 22,
   "id": "8a279542",
   "metadata": {},
   "outputs": [],
   "source": [
    "with open(\"lb2jpsipk_mc.pickle\", \"rb\") as f:\n",
    "    mc_df = pickle.load(f)"
   ]
  },
  {
   "cell_type": "code",
   "execution_count": 23,
   "id": "05b8c31b",
   "metadata": {},
   "outputs": [],
   "source": [
    "with open(\"lb2jpsipk_data.pickle\", \"rb\") as f:\n",
    "    data_df = pickle.load(f)"
   ]
  },
  {
   "cell_type": "code",
   "execution_count": 24,
   "id": "b540cc9d",
   "metadata": {},
   "outputs": [
    {
     "data": {
      "image/png": "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\n",
      "text/plain": [
       "<Figure size 432x288 with 1 Axes>"
      ]
     },
     "metadata": {
      "needs_background": "light"
     },
     "output_type": "display_data"
    }
   ],
   "source": [
    "plot_comparison('Jpsi_M', mc_df, data_df)"
   ]
  },
  {
   "cell_type": "code",
   "execution_count": 25,
   "id": "98a635cd",
   "metadata": {},
   "outputs": [
    {
     "data": {
      "image/png": "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\n",
      "text/plain": [
       "<Figure size 432x288 with 1 Axes>"
      ]
     },
     "metadata": {
      "needs_background": "light"
     },
     "output_type": "display_data"
    }
   ],
  {
   "cell_type": "code",
   "execution_count": null,
   "id": "f2d7c40f",
   "metadata": {},
   "outputs": [],
   "source": []
  },
  {
   "cell_type": "code",
   "execution_count": null,
   "id": "8033f0f5",
   "metadata": {},
   "outputs": [],
   "source": []
  },
  {
   "cell_type": "code",
   "execution_count": null,
   "id": "183f0ba5",
   "metadata": {},
   "outputs": [],
   "source": []
  },
  {
   "cell_type": "code",
   "execution_count": null,
   "id": "68b17133",
   "metadata": {},
   "outputs": [],
   "source": []
  },
  {
   "cell_type": "code",
   "execution_count": null,
   "id": "adb1b537",
   "metadata": {},
   "outputs": [],
   "source": []
  }
 ],
 "metadata": {
  "@webio": {
   "lastCommId": null,
   "lastKernelId": null
  },
  "kernelspec": {
   "display_name": "Python 3",
   "language": "python",
   "name": "python3"
  },
  "language_info": {
   "codemirror_mode": {
    "name": "ipython",
    "version": 3
   },
   "file_extension": ".py",
   "mimetype": "text/x-python",
   "name": "python",
   "nbconvert_exporter": "python",
   "pygments_lexer": "ipython3",
   "version": "3.11.9"
  }
 },
 "nbformat": 4,
 "nbformat_minor": 5
}
